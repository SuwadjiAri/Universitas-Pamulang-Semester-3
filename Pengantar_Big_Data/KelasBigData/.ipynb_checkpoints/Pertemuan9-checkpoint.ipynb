{
 "cells": [
  {
   "cell_type": "code",
   "execution_count": 1,
   "id": "7e391132",
   "metadata": {},
   "outputs": [],
   "source": [
    "import pandas as pd"
   ]
  },
  {
   "cell_type": "code",
   "execution_count": 10,
   "id": "86362797",
   "metadata": {},
   "outputs": [],
   "source": [
    "df = pd.read_csv(\"sample_csv.csv\")"
   ]
  },
  {
   "cell_type": "code",
   "execution_count": 11,
   "id": "c57386cb",
   "metadata": {},
   "outputs": [
    {
     "name": "stdout",
     "output_type": "stream",
     "text": [
      "Index :  RangeIndex(start=0, stop=101, step=1)\n"
     ]
    }
   ],
   "source": [
    "#index ari df\n",
    "print(\"Index : \" , df.index)"
   ]
  },
  {
   "cell_type": "code",
   "execution_count": 12,
   "id": "c14269ab",
   "metadata": {},
   "outputs": [
    {
     "name": "stdout",
     "output_type": "stream",
     "text": [
      "Columns :  Index(['order_id', 'order_date', 'customer_id', 'city', 'province',\n",
      "       'product_id', 'brand', 'quantity', 'item_price'],\n",
      "      dtype='object')\n"
     ]
    }
   ],
   "source": [
    "#column dari df\n",
    "print(\"Columns : \", df.columns)"
   ]
  },
  {
   "cell_type": "code",
   "execution_count": 13,
   "id": "59de032a",
   "metadata": {},
   "outputs": [
    {
     "name": "stdout",
     "output_type": "stream",
     "text": [
      "Slice langsung berdasarkan kolom:\n",
      "     order_id  order_date  customer_id             city     province  \\\n",
      "9    1612339  2019-01-01        18055  Jakarta Selatan  DKI Jakarta   \n",
      "10   1612339  2019-01-01        18055  Jakarta Selatan  DKI Jakarta   \n",
      "\n",
      "   product_id    brand  quantity  item_price  \n",
      "9       P2556  BRAND_P         6     1045000  \n",
      "10      P2154  BRAND_M         4     1745000  \n"
     ]
    }
   ],
   "source": [
    "#slice langsung berdasarkan column\n",
    "df_slice = df.loc[(df[\"order_date\"] == \"2019-01-01\") & (df[\"product_id\"].isin(['P2154','P2556']))]\n",
    "print(\"Slice langsung berdasarkan kolom:\\n\", df_slice)"
   ]
  },
  {
   "cell_type": "code",
   "execution_count": 14,
   "id": "07b5d125",
   "metadata": {},
   "outputs": [
    {
     "name": "stdout",
     "output_type": "stream",
     "text": [
      "Slice df:\n",
      "                                 customer_id             city     province  \\\n",
      "order_date order_id product_id                                              \n",
      "2019-01-01 1612339  P2154             18055  Jakarta Selatan  DKI Jakarta   \n",
      "\n",
      "                                  brand  quantity  item_price  \n",
      "order_date order_id product_id                                 \n",
      "2019-01-01 1612339  P2154       BRAND_M         4     1745000  \n"
     ]
    }
   ],
   "source": [
    "#baca file sample_csv.csv\n",
    "df2 = pd.read_csv(\"sample_csv.csv\")\n",
    "#set index dari df sesuai instruksi\n",
    "df2 = df2.set_index([\"order_date\", \"order_id\", \"product_id\"])\n",
    "#slice sesuai instruksi\n",
    "df_slice2 = df2.loc[(\"2019-01-01\", 1612339, [\"P2154\", \"P2154\"])]\n",
    "print(\"Slice df:\\n\", df_slice2)"
   ]
  },
  {
   "cell_type": "code",
   "execution_count": 15,
   "id": "0a9349ae",
   "metadata": {},
   "outputs": [
    {
     "name": "stdout",
     "output_type": "stream",
     "text": [
      "Tipe data df:\n",
      " order_id        int64\n",
      "order_date     object\n",
      "customer_id     int64\n",
      "city           object\n",
      "province       object\n",
      "product_id     object\n",
      "brand          object\n",
      "quantity        int64\n",
      "item_price      int64\n",
      "dtype: object\n",
      "nTipe data df setelah transformasi:\n",
      " order_id                int64\n",
      "order_date     datetime64[ns]\n",
      "customer_id             int64\n",
      "city                   object\n",
      "province               object\n",
      "product_id             object\n",
      "brand                  object\n",
      "quantity                int64\n",
      "item_price              int64\n",
      "dtype: object\n"
     ]
    }
   ],
   "source": [
    "#Tampilkan tipe data\n",
    "print(\"Tipe data df:\\n\", df.dtypes)\n",
    "#Ubah tipe data kolom order_date menjadi datetime\n",
    "df[\"order_date\"] = pd.to_datetime(df[\"order_date\"])\n",
    "#Tampilkan tipe data df setelah transformasi\n",
    "print(\"nTipe data df setelah transformasi:\\n\", df.dtypes)"
   ]
  },
  {
   "cell_type": "code",
   "execution_count": 16,
   "id": "2524fa4d",
   "metadata": {},
   "outputs": [
    {
     "name": "stdout",
     "output_type": "stream",
     "text": [
      "Data frame sebelum di-stack:\n",
      "      col1            col2        \n",
      "  subcol1 subcol2 subcol1 subcol2\n",
      "0       1       4       7      10\n",
      "1       2       5       8      11\n",
      "2       3       6       9      12\n",
      "Data frame setela di-stack:\n",
      "            col1  col2\n",
      "0 subcol1     1     7\n",
      "  subcol2     4    10\n",
      "1 subcol1     2     8\n",
      "  subcol2     5    11\n",
      "2 subcol1     3     9\n",
      "  subcol2     6    12\n"
     ]
    }
   ],
   "source": [
    "#membuat data frame dengan multi-level column (stack)\n",
    "dfc = pd.DataFrame({\n",
    "    ('col1', 'subcol1'): [1,2,3],\n",
    "    ('col1', 'subcol2'): [4,5,6],\n",
    "    ('col2', 'subcol1'): [7,8,9],\n",
    "    ('col2', 'subcol2'): [10,11,12]\n",
    "})\n",
    "\n",
    "#menampilkan data frame sebelum di-stack\n",
    "print(\"Data frame sebelum di-stack:\\n\", dfc)\n",
    "\n",
    "#melakukan stack pada column\n",
    "df_stacked = dfc.stack()\n",
    "\n",
    "#menampilkan data frame setelah di-stack\n",
    "print(\"Data frame setela di-stack:\\n\", df_stacked)"
   ]
  },
  {
   "cell_type": "code",
   "execution_count": 19,
   "id": "310ccbff",
   "metadata": {},
   "outputs": [
    {
     "name": "stdout",
     "output_type": "stream",
     "text": [
      "Data frame sebelum di-unstack:\n",
      " Empty DataFrame\n",
      "Columns: []\n",
      "Index: [(1, 4), (2, 5), (3, 6)]\n",
      "Data frame setelah di-unstack:\n",
      " Empty DataFrame\n",
      "Columns: []\n",
      "Index: [1, 2, 3]\n"
     ]
    }
   ],
   "source": [
    "#membuat data frame dengan multi-level index\n",
    "dfi = pd.DataFrame({\n",
    "    'col1': [1,2,3],\n",
    "    'col2': [4,5,6]\n",
    "})\n",
    "dfi.set_index(['col1','col2'], inplace=True)\n",
    "\n",
    "#menampilkan data frame sebelum di-unstack\n",
    "print(\"Data frame sebelum di-unstack:\\n\", dfi)\n",
    "\n",
    "#melakukan unstack pada index\n",
    "df_unstacked = dfi.unstack()\n",
    "\n",
    "#menampilkan data frame setelah di-unstack\n",
    "print(\"Data frame setelah di-unstack:\\n\", df_unstacked)"
   ]
  },
  {
   "cell_type": "code",
   "execution_count": 23,
   "id": "f6dc23d1",
   "metadata": {},
   "outputs": [
    {
     "name": "stdout",
     "output_type": "stream",
     "text": [
      "Data frame sebelum dihapus:\n",
      "    col1  col2  col3\n",
      "0   1.0   5.0   NaN\n",
      "1   2.0   NaN  10.0\n",
      "2   NaN   NaN  11.0\n",
      "3   4.0   8.0  12.0\n",
      "Data frame setelah dihapus:\n",
      "    col1  col2  col3\n",
      "3   4.0   8.0  12.0\n"
     ]
    }
   ],
   "source": [
    "#membuat data frame\n",
    "dfm = pd.DataFrame({\n",
    "    'col1': [1,2,None,4],\n",
    "    'col2': [5,None,None,8],\n",
    "    'col3': [None,10,11,12]\n",
    "})\n",
    "\n",
    "\n",
    "#menampilkan data frame sebelum dihapus\n",
    "print(\"Data frame sebelum dihapus:\\n\", dfm)\n",
    "\n",
    "# menghapus baris yang mengandung nilai kosong\n",
    "dfm_cleaned = dfm.dropna()\n",
    "\n",
    "# menampilkan data frame setelah dihapus\n",
    "print(\"Data frame setelah dihapus:\\n\", dfm_cleaned)"
   ]
  },
  {
   "cell_type": "code",
   "execution_count": 24,
   "id": "bcfac554",
   "metadata": {},
   "outputs": [
    {
     "name": "stdout",
     "output_type": "stream",
     "text": [
      "Data freame sebelum diisi:\n",
      "    col1  col2  col3\n",
      "0   1.0   5.0   NaN\n",
      "1   2.0   NaN  10.0\n",
      "2   NaN   NaN  11.0\n",
      "3   4.0   8.0  12.0\n"
     ]
    },
    {
     "ename": "TypeError",
     "evalue": "Could not convert ['Jakarta SelatanJakarta SelatanJakarta SelatanJakarta SelatanJakarta SelatanJakarta SelatanJakarta SelatanJakarta SelatanJakarta SelatanJakarta SelatanJakarta SelatanJakarta SelatanJakarta SelatanJakarta SelatanJakarta SelatanJakarta SelatanJakarta SelatanJakarta SelatanJakarta SelatanJakarta SelatanJakarta SelatanJakarta SelatanJakarta SelatanJakarta SelatanJakarta SelatanJakarta SelatanJakarta SelatanJakarta SelatanJakarta UtaraJakarta UtaraJakarta UtaraJakarta UtaraJakarta UtaraJakarta UtaraJakarta UtaraBogorBogorBogorTangerangTangerangTangerangTangerangTangerangTangerangTangerangTangerangTangerangTangerangTangerangTangerangTangerangTangerangTangerangTangerangTangerangTangerangTangerangTangerangTangerangTangerangTangerangTangerangTangerangTangerangTangerangTangerangTangerangTangerangTangerangTangerangJakarta PusatJakarta PusatJakarta PusatJakarta PusatJakarta PusatJakarta PusatJakarta PusatJakarta PusatJakarta PusatJakarta PusatJakarta PusatSurabayaMalangBogorBogorBogorBogorBogorBogorBogorBogorBogorBogorBogorBogorMakassarMakassarMakassarMakassarMakassarMakassar'\n 'DKI JakartaDKI JakartaDKI JakartaDKI JakartaDKI JakartaDKI JakartaDKI JakartaDKI JakartaDKI JakartaDKI JakartaDKI JakartaDKI JakartaDKI JakartaDKI JakartaDKI JakartaDKI JakartaDKI JakartaDKI JakartaDKI JakartaDKI JakartaDKI JakartaDKI JakartaDKI JakartaDKI JakartaDKI JakartaDKI JakartaDKI JakartaDKI JakartaDKI JakartaDKI JakartaDKI JakartaDKI JakartaDKI JakartaDKI JakartaDKI JakartaJawa BaratJawa BaratJawa BaratBantenBantenBantenBantenBantenBantenBantenBantenBantenBantenBantenBantenBantenBantenBantenBantenBantenBantenBantenBantenBantenBantenBantenBantenBantenBantenBantenBantenBantenBantenBantenBantenDKI JakartaDKI JakartaDKI JakartaDKI JakartaDKI JakartaDKI JakartaDKI JakartaDKI JakartaDKI JakartaDKI JakartaDKI JakartaJawa TimurJawa TimurJawa BaratJawa BaratJawa BaratJawa BaratJawa BaratJawa BaratJawa BaratJawa BaratJawa BaratJawa BaratJawa BaratJawa BaratSulawesi SelatanSulawesi SelatanSulawesi SelatanSulawesi SelatanSulawesi SelatanSulawesi Selatan'\n 'P0648P3826P1508P0520P1513P3911P1780P3132P1342P2556P2154P1685P3665P0219P1680P1679P2159P3837P2783P1255P1118P2660P1597P0968P4075P4057P4060P4009P1306P1305P1307P0708P0709P0704P3599P0327P1742P1741P0517P2707P2928P3362P2806P0525P3412P2946P2935P1813P0792P0491P1469P2866P2494P4059P2325P0255P4009P1685P1679P2964P0116P1800P1684P4025P3006P3132P0791P1945P1251P1683P0041P2760P1329P1700P2641P3484P3122P0040P0931P2575P0117P4009P0784P0449P2881P2594P1600P2086P2103P2089P0515P0535P0029P3362P3409P1867P3388P3082P3354P3357P0422'\n 'BRAND_CBRAND_VBRAND_GBRAND_BBRAND_GBRAND_VBRAND_HBRAND_SBRAND_FBRAND_PBRAND_MBRAND_HBRAND_SBRAND_ABRAND_HBRAND_HBRAND_MBRAND_VBRAND_PBRAND_EBRAND_DBRAND_PBRAND_GBRAND_CBRAND_WBRAND_WBRAND_WBRAND_WBRAND_FBRAND_FBRAND_FBRAND_CBRAND_CBRAND_CBRAND_SBRAND_BBRAND_HBRAND_HBRAND_BBRAND_PBRAND_RBRAND_SBRAND_PBRAND_BBRAND_SBRAND_RBRAND_RBRAND_IBRAND_CBRAND_BBRAND_FBRAND_RBRAND_PBRAND_WBRAND_NBRAND_ABRAND_WBRAND_HBRAND_HBRAND_RBRAND_ABRAND_HBRAND_HBRAND_WBRAND_RBRAND_SBRAND_CBRAND_KBRAND_EBRAND_HBRAND_ABRAND_PBRAND_FBRAND_HBRAND_PBRAND_SBRAND_SBRAND_ABRAND_CBRAND_PBRAND_ABRAND_WBRAND_CBRAND_BBRAND_RBRAND_PBRAND_GBRAND_LBRAND_LBRAND_LBRAND_BBRAND_BBRAND_ABRAND_SBRAND_SBRAND_JBRAND_SBRAND_RBRAND_SBRAND_SBRAND_B'] to numeric",
     "output_type": "error",
     "traceback": [
      "\u001b[1;31m---------------------------------------------------------------------------\u001b[0m",
      "\u001b[1;31mValueError\u001b[0m                                Traceback (most recent call last)",
      "File \u001b[1;32m~\\anaconda3\\Lib\\site-packages\\pandas\\core\\nanops.py:1680\u001b[0m, in \u001b[0;36m_ensure_numeric\u001b[1;34m(x)\u001b[0m\n\u001b[0;32m   1679\u001b[0m \u001b[38;5;28;01mtry\u001b[39;00m:\n\u001b[1;32m-> 1680\u001b[0m     x \u001b[38;5;241m=\u001b[39m x\u001b[38;5;241m.\u001b[39mastype(np\u001b[38;5;241m.\u001b[39mcomplex128)\n\u001b[0;32m   1681\u001b[0m \u001b[38;5;28;01mexcept\u001b[39;00m (\u001b[38;5;167;01mTypeError\u001b[39;00m, \u001b[38;5;167;01mValueError\u001b[39;00m):\n",
      "\u001b[1;31mValueError\u001b[0m: complex() arg is a malformed string",
      "\nDuring handling of the above exception, another exception occurred:\n",
      "\u001b[1;31mValueError\u001b[0m                                Traceback (most recent call last)",
      "File \u001b[1;32m~\\anaconda3\\Lib\\site-packages\\pandas\\core\\nanops.py:1683\u001b[0m, in \u001b[0;36m_ensure_numeric\u001b[1;34m(x)\u001b[0m\n\u001b[0;32m   1682\u001b[0m \u001b[38;5;28;01mtry\u001b[39;00m:\n\u001b[1;32m-> 1683\u001b[0m     x \u001b[38;5;241m=\u001b[39m x\u001b[38;5;241m.\u001b[39mastype(np\u001b[38;5;241m.\u001b[39mfloat64)\n\u001b[0;32m   1684\u001b[0m \u001b[38;5;28;01mexcept\u001b[39;00m \u001b[38;5;167;01mValueError\u001b[39;00m \u001b[38;5;28;01mas\u001b[39;00m err:\n\u001b[0;32m   1685\u001b[0m     \u001b[38;5;66;03m# GH#29941 we get here with object arrays containing strs\u001b[39;00m\n",
      "\u001b[1;31mValueError\u001b[0m: could not convert string to float: 'Jakarta SelatanJakarta SelatanJakarta SelatanJakarta SelatanJakarta SelatanJakarta SelatanJakarta SelatanJakarta SelatanJakarta SelatanJakarta SelatanJakarta SelatanJakarta SelatanJakarta SelatanJakarta SelatanJakarta SelatanJakarta SelatanJakarta SelatanJakarta SelatanJakarta SelatanJakarta SelatanJakarta SelatanJakarta SelatanJakarta SelatanJakarta SelatanJakarta SelatanJakarta SelatanJakarta SelatanJakarta SelatanJakarta UtaraJakarta UtaraJakarta UtaraJakarta UtaraJakarta UtaraJakarta UtaraJakarta UtaraBogorBogorBogorTangerangTangerangTangerangTangerangTangerangTangerangTangerangTangerangTangerangTangerangTangerangTangerangTangerangTangerangTangerangTangerangTangerangTangerangTangerangTangerangTangerangTangerangTangerangTangerangTangerangTangerangTangerangTangerangTangerangTangerangTangerangTangerangJakarta PusatJakarta PusatJakarta PusatJakarta PusatJakarta PusatJakarta PusatJakarta PusatJakarta PusatJakarta PusatJakarta PusatJakarta PusatSurabayaMalangBogorBogorBogorBogorBogorBogorBogorBogorBogorBogorBogorBogorMakassarMakassarMakassarMakassarMakassarMakassar'",
      "\nThe above exception was the direct cause of the following exception:\n",
      "\u001b[1;31mTypeError\u001b[0m                                 Traceback (most recent call last)",
      "Cell \u001b[1;32mIn[24], line 5\u001b[0m\n\u001b[0;32m      2\u001b[0m \u001b[38;5;28mprint\u001b[39m(\u001b[38;5;124m\"\u001b[39m\u001b[38;5;124mData freame sebelum diisi:\u001b[39m\u001b[38;5;130;01m\\n\u001b[39;00m\u001b[38;5;124m\"\u001b[39m, dfm)\n\u001b[0;32m      4\u001b[0m \u001b[38;5;66;03m# mengisi nilai kosong dengan nilai rata-rata kolom\u001b[39;00m\n\u001b[1;32m----> 5\u001b[0m dfm_filled \u001b[38;5;241m=\u001b[39m dfm\u001b[38;5;241m.\u001b[39mfillna(df\u001b[38;5;241m.\u001b[39mmean())\n\u001b[0;32m      7\u001b[0m \u001b[38;5;66;03m# menampilkan dataframe setelah diisi\u001b[39;00m\n\u001b[0;32m      8\u001b[0m \u001b[38;5;28mprint\u001b[39m(\u001b[38;5;124m\"\u001b[39m\u001b[38;5;124mData frame setelah diisi:\u001b[39m\u001b[38;5;130;01m\\n\u001b[39;00m\u001b[38;5;124m\"\u001b[39m, dfm_filled)\n",
      "File \u001b[1;32m~\\anaconda3\\Lib\\site-packages\\pandas\\core\\generic.py:11556\u001b[0m, in \u001b[0;36mNDFrame._add_numeric_operations.<locals>.mean\u001b[1;34m(self, axis, skipna, numeric_only, **kwargs)\u001b[0m\n\u001b[0;32m  11539\u001b[0m \u001b[38;5;129m@doc\u001b[39m(\n\u001b[0;32m  11540\u001b[0m     _num_doc,\n\u001b[0;32m  11541\u001b[0m     desc\u001b[38;5;241m=\u001b[39m\u001b[38;5;124m\"\u001b[39m\u001b[38;5;124mReturn the mean of the values over the requested axis.\u001b[39m\u001b[38;5;124m\"\u001b[39m,\n\u001b[1;32m   (...)\u001b[0m\n\u001b[0;32m  11554\u001b[0m     \u001b[38;5;241m*\u001b[39m\u001b[38;5;241m*\u001b[39mkwargs,\n\u001b[0;32m  11555\u001b[0m ):\n\u001b[1;32m> 11556\u001b[0m     \u001b[38;5;28;01mreturn\u001b[39;00m NDFrame\u001b[38;5;241m.\u001b[39mmean(\u001b[38;5;28mself\u001b[39m, axis, skipna, numeric_only, \u001b[38;5;241m*\u001b[39m\u001b[38;5;241m*\u001b[39mkwargs)\n",
      "File \u001b[1;32m~\\anaconda3\\Lib\\site-packages\\pandas\\core\\generic.py:11201\u001b[0m, in \u001b[0;36mNDFrame.mean\u001b[1;34m(self, axis, skipna, numeric_only, **kwargs)\u001b[0m\n\u001b[0;32m  11194\u001b[0m \u001b[38;5;28;01mdef\u001b[39;00m \u001b[38;5;21mmean\u001b[39m(\n\u001b[0;32m  11195\u001b[0m     \u001b[38;5;28mself\u001b[39m,\n\u001b[0;32m  11196\u001b[0m     axis: Axis \u001b[38;5;241m|\u001b[39m \u001b[38;5;28;01mNone\u001b[39;00m \u001b[38;5;241m=\u001b[39m \u001b[38;5;241m0\u001b[39m,\n\u001b[1;32m   (...)\u001b[0m\n\u001b[0;32m  11199\u001b[0m     \u001b[38;5;241m*\u001b[39m\u001b[38;5;241m*\u001b[39mkwargs,\n\u001b[0;32m  11200\u001b[0m ) \u001b[38;5;241m-\u001b[39m\u001b[38;5;241m>\u001b[39m Series \u001b[38;5;241m|\u001b[39m \u001b[38;5;28mfloat\u001b[39m:\n\u001b[1;32m> 11201\u001b[0m     \u001b[38;5;28;01mreturn\u001b[39;00m \u001b[38;5;28mself\u001b[39m\u001b[38;5;241m.\u001b[39m_stat_function(\n\u001b[0;32m  11202\u001b[0m         \u001b[38;5;124m\"\u001b[39m\u001b[38;5;124mmean\u001b[39m\u001b[38;5;124m\"\u001b[39m, nanops\u001b[38;5;241m.\u001b[39mnanmean, axis, skipna, numeric_only, \u001b[38;5;241m*\u001b[39m\u001b[38;5;241m*\u001b[39mkwargs\n\u001b[0;32m  11203\u001b[0m     )\n",
      "File \u001b[1;32m~\\anaconda3\\Lib\\site-packages\\pandas\\core\\generic.py:11158\u001b[0m, in \u001b[0;36mNDFrame._stat_function\u001b[1;34m(self, name, func, axis, skipna, numeric_only, **kwargs)\u001b[0m\n\u001b[0;32m  11154\u001b[0m     nv\u001b[38;5;241m.\u001b[39mvalidate_stat_func((), kwargs, fname\u001b[38;5;241m=\u001b[39mname)\n\u001b[0;32m  11156\u001b[0m validate_bool_kwarg(skipna, \u001b[38;5;124m\"\u001b[39m\u001b[38;5;124mskipna\u001b[39m\u001b[38;5;124m\"\u001b[39m, none_allowed\u001b[38;5;241m=\u001b[39m\u001b[38;5;28;01mFalse\u001b[39;00m)\n\u001b[1;32m> 11158\u001b[0m \u001b[38;5;28;01mreturn\u001b[39;00m \u001b[38;5;28mself\u001b[39m\u001b[38;5;241m.\u001b[39m_reduce(\n\u001b[0;32m  11159\u001b[0m     func, name\u001b[38;5;241m=\u001b[39mname, axis\u001b[38;5;241m=\u001b[39maxis, skipna\u001b[38;5;241m=\u001b[39mskipna, numeric_only\u001b[38;5;241m=\u001b[39mnumeric_only\n\u001b[0;32m  11160\u001b[0m )\n",
      "File \u001b[1;32m~\\anaconda3\\Lib\\site-packages\\pandas\\core\\frame.py:10519\u001b[0m, in \u001b[0;36mDataFrame._reduce\u001b[1;34m(self, op, name, axis, skipna, numeric_only, filter_type, **kwds)\u001b[0m\n\u001b[0;32m  10515\u001b[0m     df \u001b[38;5;241m=\u001b[39m df\u001b[38;5;241m.\u001b[39mT\n\u001b[0;32m  10517\u001b[0m \u001b[38;5;66;03m# After possibly _get_data and transposing, we are now in the\u001b[39;00m\n\u001b[0;32m  10518\u001b[0m \u001b[38;5;66;03m#  simple case where we can use BlockManager.reduce\u001b[39;00m\n\u001b[1;32m> 10519\u001b[0m res \u001b[38;5;241m=\u001b[39m df\u001b[38;5;241m.\u001b[39m_mgr\u001b[38;5;241m.\u001b[39mreduce(blk_func)\n\u001b[0;32m  10520\u001b[0m out \u001b[38;5;241m=\u001b[39m df\u001b[38;5;241m.\u001b[39m_constructor(res)\u001b[38;5;241m.\u001b[39miloc[\u001b[38;5;241m0\u001b[39m]\n\u001b[0;32m  10521\u001b[0m \u001b[38;5;28;01mif\u001b[39;00m out_dtype \u001b[38;5;129;01mis\u001b[39;00m \u001b[38;5;129;01mnot\u001b[39;00m \u001b[38;5;28;01mNone\u001b[39;00m:\n",
      "File \u001b[1;32m~\\anaconda3\\Lib\\site-packages\\pandas\\core\\internals\\managers.py:1534\u001b[0m, in \u001b[0;36mBlockManager.reduce\u001b[1;34m(self, func)\u001b[0m\n\u001b[0;32m   1532\u001b[0m res_blocks: \u001b[38;5;28mlist\u001b[39m[Block] \u001b[38;5;241m=\u001b[39m []\n\u001b[0;32m   1533\u001b[0m \u001b[38;5;28;01mfor\u001b[39;00m blk \u001b[38;5;129;01min\u001b[39;00m \u001b[38;5;28mself\u001b[39m\u001b[38;5;241m.\u001b[39mblocks:\n\u001b[1;32m-> 1534\u001b[0m     nbs \u001b[38;5;241m=\u001b[39m blk\u001b[38;5;241m.\u001b[39mreduce(func)\n\u001b[0;32m   1535\u001b[0m     res_blocks\u001b[38;5;241m.\u001b[39mextend(nbs)\n\u001b[0;32m   1537\u001b[0m index \u001b[38;5;241m=\u001b[39m Index([\u001b[38;5;28;01mNone\u001b[39;00m])  \u001b[38;5;66;03m# placeholder\u001b[39;00m\n",
      "File \u001b[1;32m~\\anaconda3\\Lib\\site-packages\\pandas\\core\\internals\\blocks.py:339\u001b[0m, in \u001b[0;36mBlock.reduce\u001b[1;34m(self, func)\u001b[0m\n\u001b[0;32m    333\u001b[0m \u001b[38;5;129m@final\u001b[39m\n\u001b[0;32m    334\u001b[0m \u001b[38;5;28;01mdef\u001b[39;00m \u001b[38;5;21mreduce\u001b[39m(\u001b[38;5;28mself\u001b[39m, func) \u001b[38;5;241m-\u001b[39m\u001b[38;5;241m>\u001b[39m \u001b[38;5;28mlist\u001b[39m[Block]:\n\u001b[0;32m    335\u001b[0m     \u001b[38;5;66;03m# We will apply the function and reshape the result into a single-row\u001b[39;00m\n\u001b[0;32m    336\u001b[0m     \u001b[38;5;66;03m#  Block with the same mgr_locs; squeezing will be done at a higher level\u001b[39;00m\n\u001b[0;32m    337\u001b[0m     \u001b[38;5;28;01massert\u001b[39;00m \u001b[38;5;28mself\u001b[39m\u001b[38;5;241m.\u001b[39mndim \u001b[38;5;241m==\u001b[39m \u001b[38;5;241m2\u001b[39m\n\u001b[1;32m--> 339\u001b[0m     result \u001b[38;5;241m=\u001b[39m func(\u001b[38;5;28mself\u001b[39m\u001b[38;5;241m.\u001b[39mvalues)\n\u001b[0;32m    341\u001b[0m     \u001b[38;5;28;01mif\u001b[39;00m \u001b[38;5;28mself\u001b[39m\u001b[38;5;241m.\u001b[39mvalues\u001b[38;5;241m.\u001b[39mndim \u001b[38;5;241m==\u001b[39m \u001b[38;5;241m1\u001b[39m:\n\u001b[0;32m    342\u001b[0m         \u001b[38;5;66;03m# TODO(EA2D): special case not needed with 2D EAs\u001b[39;00m\n\u001b[0;32m    343\u001b[0m         res_values \u001b[38;5;241m=\u001b[39m np\u001b[38;5;241m.\u001b[39marray([[result]])\n",
      "File \u001b[1;32m~\\anaconda3\\Lib\\site-packages\\pandas\\core\\frame.py:10482\u001b[0m, in \u001b[0;36mDataFrame._reduce.<locals>.blk_func\u001b[1;34m(values, axis)\u001b[0m\n\u001b[0;32m  10480\u001b[0m     \u001b[38;5;28;01mreturn\u001b[39;00m values\u001b[38;5;241m.\u001b[39m_reduce(name, skipna\u001b[38;5;241m=\u001b[39mskipna, \u001b[38;5;241m*\u001b[39m\u001b[38;5;241m*\u001b[39mkwds)\n\u001b[0;32m  10481\u001b[0m \u001b[38;5;28;01melse\u001b[39;00m:\n\u001b[1;32m> 10482\u001b[0m     \u001b[38;5;28;01mreturn\u001b[39;00m op(values, axis\u001b[38;5;241m=\u001b[39maxis, skipna\u001b[38;5;241m=\u001b[39mskipna, \u001b[38;5;241m*\u001b[39m\u001b[38;5;241m*\u001b[39mkwds)\n",
      "File \u001b[1;32m~\\anaconda3\\Lib\\site-packages\\pandas\\core\\nanops.py:96\u001b[0m, in \u001b[0;36mdisallow.__call__.<locals>._f\u001b[1;34m(*args, **kwargs)\u001b[0m\n\u001b[0;32m     94\u001b[0m \u001b[38;5;28;01mtry\u001b[39;00m:\n\u001b[0;32m     95\u001b[0m     \u001b[38;5;28;01mwith\u001b[39;00m np\u001b[38;5;241m.\u001b[39merrstate(invalid\u001b[38;5;241m=\u001b[39m\u001b[38;5;124m\"\u001b[39m\u001b[38;5;124mignore\u001b[39m\u001b[38;5;124m\"\u001b[39m):\n\u001b[1;32m---> 96\u001b[0m         \u001b[38;5;28;01mreturn\u001b[39;00m f(\u001b[38;5;241m*\u001b[39margs, \u001b[38;5;241m*\u001b[39m\u001b[38;5;241m*\u001b[39mkwargs)\n\u001b[0;32m     97\u001b[0m \u001b[38;5;28;01mexcept\u001b[39;00m \u001b[38;5;167;01mValueError\u001b[39;00m \u001b[38;5;28;01mas\u001b[39;00m e:\n\u001b[0;32m     98\u001b[0m     \u001b[38;5;66;03m# we want to transform an object array\u001b[39;00m\n\u001b[0;32m     99\u001b[0m     \u001b[38;5;66;03m# ValueError message to the more typical TypeError\u001b[39;00m\n\u001b[0;32m    100\u001b[0m     \u001b[38;5;66;03m# e.g. this is normally a disallowed function on\u001b[39;00m\n\u001b[0;32m    101\u001b[0m     \u001b[38;5;66;03m# object arrays that contain strings\u001b[39;00m\n\u001b[0;32m    102\u001b[0m     \u001b[38;5;28;01mif\u001b[39;00m is_object_dtype(args[\u001b[38;5;241m0\u001b[39m]):\n",
      "File \u001b[1;32m~\\anaconda3\\Lib\\site-packages\\pandas\\core\\nanops.py:158\u001b[0m, in \u001b[0;36mbottleneck_switch.__call__.<locals>.f\u001b[1;34m(values, axis, skipna, **kwds)\u001b[0m\n\u001b[0;32m    156\u001b[0m         result \u001b[38;5;241m=\u001b[39m alt(values, axis\u001b[38;5;241m=\u001b[39maxis, skipna\u001b[38;5;241m=\u001b[39mskipna, \u001b[38;5;241m*\u001b[39m\u001b[38;5;241m*\u001b[39mkwds)\n\u001b[0;32m    157\u001b[0m \u001b[38;5;28;01melse\u001b[39;00m:\n\u001b[1;32m--> 158\u001b[0m     result \u001b[38;5;241m=\u001b[39m alt(values, axis\u001b[38;5;241m=\u001b[39maxis, skipna\u001b[38;5;241m=\u001b[39mskipna, \u001b[38;5;241m*\u001b[39m\u001b[38;5;241m*\u001b[39mkwds)\n\u001b[0;32m    160\u001b[0m \u001b[38;5;28;01mreturn\u001b[39;00m result\n",
      "File \u001b[1;32m~\\anaconda3\\Lib\\site-packages\\pandas\\core\\nanops.py:421\u001b[0m, in \u001b[0;36m_datetimelike_compat.<locals>.new_func\u001b[1;34m(values, axis, skipna, mask, **kwargs)\u001b[0m\n\u001b[0;32m    418\u001b[0m \u001b[38;5;28;01mif\u001b[39;00m datetimelike \u001b[38;5;129;01mand\u001b[39;00m mask \u001b[38;5;129;01mis\u001b[39;00m \u001b[38;5;28;01mNone\u001b[39;00m:\n\u001b[0;32m    419\u001b[0m     mask \u001b[38;5;241m=\u001b[39m isna(values)\n\u001b[1;32m--> 421\u001b[0m result \u001b[38;5;241m=\u001b[39m func(values, axis\u001b[38;5;241m=\u001b[39maxis, skipna\u001b[38;5;241m=\u001b[39mskipna, mask\u001b[38;5;241m=\u001b[39mmask, \u001b[38;5;241m*\u001b[39m\u001b[38;5;241m*\u001b[39mkwargs)\n\u001b[0;32m    423\u001b[0m \u001b[38;5;28;01mif\u001b[39;00m datetimelike:\n\u001b[0;32m    424\u001b[0m     result \u001b[38;5;241m=\u001b[39m _wrap_results(result, orig_values\u001b[38;5;241m.\u001b[39mdtype, fill_value\u001b[38;5;241m=\u001b[39miNaT)\n",
      "File \u001b[1;32m~\\anaconda3\\Lib\\site-packages\\pandas\\core\\nanops.py:727\u001b[0m, in \u001b[0;36mnanmean\u001b[1;34m(values, axis, skipna, mask)\u001b[0m\n\u001b[0;32m    724\u001b[0m     dtype_count \u001b[38;5;241m=\u001b[39m dtype\n\u001b[0;32m    726\u001b[0m count \u001b[38;5;241m=\u001b[39m _get_counts(values\u001b[38;5;241m.\u001b[39mshape, mask, axis, dtype\u001b[38;5;241m=\u001b[39mdtype_count)\n\u001b[1;32m--> 727\u001b[0m the_sum \u001b[38;5;241m=\u001b[39m _ensure_numeric(values\u001b[38;5;241m.\u001b[39msum(axis, dtype\u001b[38;5;241m=\u001b[39mdtype_sum))\n\u001b[0;32m    729\u001b[0m \u001b[38;5;28;01mif\u001b[39;00m axis \u001b[38;5;129;01mis\u001b[39;00m \u001b[38;5;129;01mnot\u001b[39;00m \u001b[38;5;28;01mNone\u001b[39;00m \u001b[38;5;129;01mand\u001b[39;00m \u001b[38;5;28mgetattr\u001b[39m(the_sum, \u001b[38;5;124m\"\u001b[39m\u001b[38;5;124mndim\u001b[39m\u001b[38;5;124m\"\u001b[39m, \u001b[38;5;28;01mFalse\u001b[39;00m):\n\u001b[0;32m    730\u001b[0m     count \u001b[38;5;241m=\u001b[39m cast(np\u001b[38;5;241m.\u001b[39mndarray, count)\n",
      "File \u001b[1;32m~\\anaconda3\\Lib\\site-packages\\pandas\\core\\nanops.py:1686\u001b[0m, in \u001b[0;36m_ensure_numeric\u001b[1;34m(x)\u001b[0m\n\u001b[0;32m   1683\u001b[0m         x \u001b[38;5;241m=\u001b[39m x\u001b[38;5;241m.\u001b[39mastype(np\u001b[38;5;241m.\u001b[39mfloat64)\n\u001b[0;32m   1684\u001b[0m     \u001b[38;5;28;01mexcept\u001b[39;00m \u001b[38;5;167;01mValueError\u001b[39;00m \u001b[38;5;28;01mas\u001b[39;00m err:\n\u001b[0;32m   1685\u001b[0m         \u001b[38;5;66;03m# GH#29941 we get here with object arrays containing strs\u001b[39;00m\n\u001b[1;32m-> 1686\u001b[0m         \u001b[38;5;28;01mraise\u001b[39;00m \u001b[38;5;167;01mTypeError\u001b[39;00m(\u001b[38;5;124mf\u001b[39m\u001b[38;5;124m\"\u001b[39m\u001b[38;5;124mCould not convert \u001b[39m\u001b[38;5;132;01m{\u001b[39;00mx\u001b[38;5;132;01m}\u001b[39;00m\u001b[38;5;124m to numeric\u001b[39m\u001b[38;5;124m\"\u001b[39m) \u001b[38;5;28;01mfrom\u001b[39;00m \u001b[38;5;21;01merr\u001b[39;00m\n\u001b[0;32m   1687\u001b[0m \u001b[38;5;28;01melse\u001b[39;00m:\n\u001b[0;32m   1688\u001b[0m     \u001b[38;5;28;01mif\u001b[39;00m \u001b[38;5;129;01mnot\u001b[39;00m np\u001b[38;5;241m.\u001b[39many(np\u001b[38;5;241m.\u001b[39mimag(x)):\n",
      "\u001b[1;31mTypeError\u001b[0m: Could not convert ['Jakarta SelatanJakarta SelatanJakarta SelatanJakarta SelatanJakarta SelatanJakarta SelatanJakarta SelatanJakarta SelatanJakarta SelatanJakarta SelatanJakarta SelatanJakarta SelatanJakarta SelatanJakarta SelatanJakarta SelatanJakarta SelatanJakarta SelatanJakarta SelatanJakarta SelatanJakarta SelatanJakarta SelatanJakarta SelatanJakarta SelatanJakarta SelatanJakarta SelatanJakarta SelatanJakarta SelatanJakarta SelatanJakarta UtaraJakarta UtaraJakarta UtaraJakarta UtaraJakarta UtaraJakarta UtaraJakarta UtaraBogorBogorBogorTangerangTangerangTangerangTangerangTangerangTangerangTangerangTangerangTangerangTangerangTangerangTangerangTangerangTangerangTangerangTangerangTangerangTangerangTangerangTangerangTangerangTangerangTangerangTangerangTangerangTangerangTangerangTangerangTangerangTangerangTangerangTangerangJakarta PusatJakarta PusatJakarta PusatJakarta PusatJakarta PusatJakarta PusatJakarta PusatJakarta PusatJakarta PusatJakarta PusatJakarta PusatSurabayaMalangBogorBogorBogorBogorBogorBogorBogorBogorBogorBogorBogorBogorMakassarMakassarMakassarMakassarMakassarMakassar'\n 'DKI JakartaDKI JakartaDKI JakartaDKI JakartaDKI JakartaDKI JakartaDKI JakartaDKI JakartaDKI JakartaDKI JakartaDKI JakartaDKI JakartaDKI JakartaDKI JakartaDKI JakartaDKI JakartaDKI JakartaDKI JakartaDKI JakartaDKI JakartaDKI JakartaDKI JakartaDKI JakartaDKI JakartaDKI JakartaDKI JakartaDKI JakartaDKI JakartaDKI JakartaDKI JakartaDKI JakartaDKI JakartaDKI JakartaDKI JakartaDKI JakartaJawa BaratJawa BaratJawa BaratBantenBantenBantenBantenBantenBantenBantenBantenBantenBantenBantenBantenBantenBantenBantenBantenBantenBantenBantenBantenBantenBantenBantenBantenBantenBantenBantenBantenBantenBantenBantenBantenDKI JakartaDKI JakartaDKI JakartaDKI JakartaDKI JakartaDKI JakartaDKI JakartaDKI JakartaDKI JakartaDKI JakartaDKI JakartaJawa TimurJawa TimurJawa BaratJawa BaratJawa BaratJawa BaratJawa BaratJawa BaratJawa BaratJawa BaratJawa BaratJawa BaratJawa BaratJawa BaratSulawesi SelatanSulawesi SelatanSulawesi SelatanSulawesi SelatanSulawesi SelatanSulawesi Selatan'\n 'P0648P3826P1508P0520P1513P3911P1780P3132P1342P2556P2154P1685P3665P0219P1680P1679P2159P3837P2783P1255P1118P2660P1597P0968P4075P4057P4060P4009P1306P1305P1307P0708P0709P0704P3599P0327P1742P1741P0517P2707P2928P3362P2806P0525P3412P2946P2935P1813P0792P0491P1469P2866P2494P4059P2325P0255P4009P1685P1679P2964P0116P1800P1684P4025P3006P3132P0791P1945P1251P1683P0041P2760P1329P1700P2641P3484P3122P0040P0931P2575P0117P4009P0784P0449P2881P2594P1600P2086P2103P2089P0515P0535P0029P3362P3409P1867P3388P3082P3354P3357P0422'\n 'BRAND_CBRAND_VBRAND_GBRAND_BBRAND_GBRAND_VBRAND_HBRAND_SBRAND_FBRAND_PBRAND_MBRAND_HBRAND_SBRAND_ABRAND_HBRAND_HBRAND_MBRAND_VBRAND_PBRAND_EBRAND_DBRAND_PBRAND_GBRAND_CBRAND_WBRAND_WBRAND_WBRAND_WBRAND_FBRAND_FBRAND_FBRAND_CBRAND_CBRAND_CBRAND_SBRAND_BBRAND_HBRAND_HBRAND_BBRAND_PBRAND_RBRAND_SBRAND_PBRAND_BBRAND_SBRAND_RBRAND_RBRAND_IBRAND_CBRAND_BBRAND_FBRAND_RBRAND_PBRAND_WBRAND_NBRAND_ABRAND_WBRAND_HBRAND_HBRAND_RBRAND_ABRAND_HBRAND_HBRAND_WBRAND_RBRAND_SBRAND_CBRAND_KBRAND_EBRAND_HBRAND_ABRAND_PBRAND_FBRAND_HBRAND_PBRAND_SBRAND_SBRAND_ABRAND_CBRAND_PBRAND_ABRAND_WBRAND_CBRAND_BBRAND_RBRAND_PBRAND_GBRAND_LBRAND_LBRAND_LBRAND_BBRAND_BBRAND_ABRAND_SBRAND_SBRAND_JBRAND_SBRAND_RBRAND_SBRAND_SBRAND_B'] to numeric"
     ]
    }
   ],
   "source": [
    "# menampilkan data frame sebelum diisi\n",
    "print(\"Data freame sebelum diisi:\\n\", dfm)\n",
    "\n",
    "# mengisi nilai kosong dengan nilai rata-rata kolom\n",
    "dfm_filled = dfm.fillna(df.mean())\n",
    "\n",
    "# menampilkan dataframe setelah diisi\n",
    "print(\"Data frame setelah diisi:\\n\", dfm_filled)"
   ]
  },
  {
   "cell_type": "code",
   "execution_count": null,
   "id": "150398e9",
   "metadata": {},
   "outputs": [],
   "source": []
  }
 ],
 "metadata": {
  "kernelspec": {
   "display_name": "Python 3 (ipykernel)",
   "language": "python",
   "name": "python3"
  },
  "language_info": {
   "codemirror_mode": {
    "name": "ipython",
    "version": 3
   },
   "file_extension": ".py",
   "mimetype": "text/x-python",
   "name": "python",
   "nbconvert_exporter": "python",
   "pygments_lexer": "ipython3",
   "version": "3.11.5"
  }
 },
 "nbformat": 4,
 "nbformat_minor": 5
}
