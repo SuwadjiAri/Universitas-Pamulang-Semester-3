{
 "cells": [
  {
   "cell_type": "code",
   "execution_count": 1,
   "id": "7e391132",
   "metadata": {},
   "outputs": [],
   "source": [
    "import pandas as pd"
   ]
  },
  {
   "cell_type": "code",
   "execution_count": 2,
   "id": "86362797",
   "metadata": {},
   "outputs": [],
   "source": [
    "df = pd.read_csv(\"sample_csv.csv\")"
   ]
  },
  {
   "cell_type": "code",
   "execution_count": 3,
   "id": "c57386cb",
   "metadata": {},
   "outputs": [
    {
     "name": "stdout",
     "output_type": "stream",
     "text": [
      "Index :  RangeIndex(start=0, stop=101, step=1)\n"
     ]
    }
   ],
   "source": [
    "#index ari df\n",
    "print(\"Index : \" , df.index)"
   ]
  },
  {
   "cell_type": "code",
   "execution_count": 4,
   "id": "c14269ab",
   "metadata": {},
   "outputs": [
    {
     "name": "stdout",
     "output_type": "stream",
     "text": [
      "Columns :  Index(['order_id', 'order_date', 'customer_id', 'city', 'province',\n",
      "       'product_id', 'brand', 'quantity', 'item_price'],\n",
      "      dtype='object')\n"
     ]
    }
   ],
   "source": [
    "#column dari df\n",
    "print(\"Columns : \", df.columns)"
   ]
  },
  {
   "cell_type": "code",
   "execution_count": null,
   "id": "59de032a",
   "metadata": {},
   "outputs": [],
   "source": []
  }
 ],
 "metadata": {
  "kernelspec": {
   "display_name": "Python 3 (ipykernel)",
   "language": "python",
   "name": "python3"
  },
  "language_info": {
   "codemirror_mode": {
    "name": "ipython",
    "version": 3
   },
   "file_extension": ".py",
   "mimetype": "text/x-python",
   "name": "python",
   "nbconvert_exporter": "python",
   "pygments_lexer": "ipython3",
   "version": "3.11.5"
  }
 },
 "nbformat": 4,
 "nbformat_minor": 5
}
